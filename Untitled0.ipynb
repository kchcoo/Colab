{
  "nbformat": 4,
  "nbformat_minor": 0,
  "metadata": {
    "colab": {
      "provenance": [],
      "toc_visible": true,
      "authorship_tag": "ABX9TyOoPqNUjUzyRe+ZuKWq+l8Z",
      "include_colab_link": true
    },
    "kernelspec": {
      "name": "python3",
      "display_name": "Python 3"
    },
    "language_info": {
      "name": "python"
    }
  },
  "cells": [
    {
      "cell_type": "markdown",
      "metadata": {
        "id": "view-in-github",
        "colab_type": "text"
      },
      "source": [
        "<a href=\"https://colab.research.google.com/github/kchcoo/Colab/blob/main/Untitled0.ipynb\" target=\"_parent\"><img src=\"https://colab.research.google.com/assets/colab-badge.svg\" alt=\"Open In Colab\"/></a>"
      ]
    },
    {
      "cell_type": "code",
      "execution_count": 1,
      "metadata": {
        "id": "JtYt1ONiTh-4"
      },
      "outputs": [],
      "source": [
        "# prompt: 두개의 컬럼과 10개의 줄을 가진 데이터프레임을 생성해줘\n",
        "\n",
        "import pandas as pd\n",
        "df = pd.DataFrame({'col1': range(10), 'col2': range(10, 20)})\n"
      ]
    },
    {
      "cell_type": "code",
      "source": [],
      "metadata": {
        "id": "1LyRWstSUGSR"
      },
      "execution_count": null,
      "outputs": []
    }
  ]
}