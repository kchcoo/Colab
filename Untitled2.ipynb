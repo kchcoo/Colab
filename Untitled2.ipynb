{
  "nbformat": 4,
  "nbformat_minor": 0,
  "metadata": {
    "colab": {
      "provenance": [],
      "authorship_tag": "ABX9TyMAHHRK0PDDW+1nr9iIgfx6",
      "include_colab_link": true
    },
    "kernelspec": {
      "name": "python3",
      "display_name": "Python 3"
    },
    "language_info": {
      "name": "python"
    }
  },
  "cells": [
    {
      "cell_type": "markdown",
      "metadata": {
        "id": "view-in-github",
        "colab_type": "text"
      },
      "source": [
        "<a href=\"https://colab.research.google.com/github/kchcoo/Colab/blob/main/Untitled2.ipynb\" target=\"_parent\"><img src=\"https://colab.research.google.com/assets/colab-badge.svg\" alt=\"Open In Colab\"/></a>"
      ]
    },
    {
      "cell_type": "code",
      "execution_count": null,
      "metadata": {
        "colab": {
          "base_uri": "https://localhost:8080/"
        },
        "id": "p-7PeeORww0-",
        "outputId": "fd66ebdb-1826-43d7-8b41-9b75b3251b55"
      },
      "outputs": [
        {
          "output_type": "stream",
          "name": "stdout",
          "text": [
            "Requirement already satisfied: yt-dlp in /usr/local/lib/python3.10/dist-packages (2024.8.6)\n",
            "Requirement already satisfied: moviepy in /usr/local/lib/python3.10/dist-packages (1.0.3)\n",
            "Requirement already satisfied: SpeechRecognition in /usr/local/lib/python3.10/dist-packages (3.10.4)\n",
            "Requirement already satisfied: pydub in /usr/local/lib/python3.10/dist-packages (0.25.1)\n",
            "Requirement already satisfied: brotli in /usr/local/lib/python3.10/dist-packages (from yt-dlp) (1.1.0)\n",
            "Requirement already satisfied: certifi in /usr/local/lib/python3.10/dist-packages (from yt-dlp) (2024.8.30)\n",
            "Requirement already satisfied: mutagen in /usr/local/lib/python3.10/dist-packages (from yt-dlp) (1.47.0)\n",
            "Requirement already satisfied: pycryptodomex in /usr/local/lib/python3.10/dist-packages (from yt-dlp) (3.20.0)\n",
            "Requirement already satisfied: requests<3,>=2.32.2 in /usr/local/lib/python3.10/dist-packages (from yt-dlp) (2.32.3)\n",
            "Requirement already satisfied: urllib3<3,>=1.26.17 in /usr/local/lib/python3.10/dist-packages (from yt-dlp) (2.0.7)\n",
            "Requirement already satisfied: websockets>=12.0 in /usr/local/lib/python3.10/dist-packages (from yt-dlp) (13.0.1)\n",
            "Requirement already satisfied: decorator<5.0,>=4.0.2 in /usr/local/lib/python3.10/dist-packages (from moviepy) (4.4.2)\n",
            "Requirement already satisfied: tqdm<5.0,>=4.11.2 in /usr/local/lib/python3.10/dist-packages (from moviepy) (4.66.5)\n",
            "Requirement already satisfied: proglog<=1.0.0 in /usr/local/lib/python3.10/dist-packages (from moviepy) (0.1.10)\n",
            "Requirement already satisfied: numpy>=1.17.3 in /usr/local/lib/python3.10/dist-packages (from moviepy) (1.26.4)\n",
            "Requirement already satisfied: imageio<3.0,>=2.5 in /usr/local/lib/python3.10/dist-packages (from moviepy) (2.34.2)\n",
            "Requirement already satisfied: imageio-ffmpeg>=0.2.0 in /usr/local/lib/python3.10/dist-packages (from moviepy) (0.5.1)\n",
            "Requirement already satisfied: typing-extensions in /usr/local/lib/python3.10/dist-packages (from SpeechRecognition) (4.12.2)\n",
            "Requirement already satisfied: pillow>=8.3.2 in /usr/local/lib/python3.10/dist-packages (from imageio<3.0,>=2.5->moviepy) (9.4.0)\n",
            "Requirement already satisfied: setuptools in /usr/local/lib/python3.10/dist-packages (from imageio-ffmpeg>=0.2.0->moviepy) (71.0.4)\n",
            "Requirement already satisfied: charset-normalizer<4,>=2 in /usr/local/lib/python3.10/dist-packages (from requests<3,>=2.32.2->yt-dlp) (3.3.2)\n",
            "Requirement already satisfied: idna<4,>=2.5 in /usr/local/lib/python3.10/dist-packages (from requests<3,>=2.32.2->yt-dlp) (3.8)\n",
            "영상 다운로드 중...\n",
            "[youtube] Extracting URL: https://youtu.be/3-C3bPXBE2o?si=WFMDk4kvf_4XBezH\n",
            "[youtube] 3-C3bPXBE2o: Downloading webpage\n",
            "[youtube] 3-C3bPXBE2o: Downloading ios player API JSON\n",
            "[youtube] 3-C3bPXBE2o: Downloading web creator player API JSON\n",
            "[youtube] 3-C3bPXBE2o: Downloading player e38bb6de\n",
            "[youtube] 3-C3bPXBE2o: Downloading m3u8 information\n",
            "[info] 3-C3bPXBE2o: Downloading 1 format(s): 18\n",
            "[download] Destination: video.mp4\n",
            "[download] 100% of   13.91MiB in 00:00:06 at 2.14MiB/s   \n",
            "오디오 추출 중...\n",
            "MoviePy - Writing audio in audio.wav\n"
          ]
        },
        {
          "output_type": "stream",
          "name": "stderr",
          "text": []
        },
        {
          "output_type": "stream",
          "name": "stdout",
          "text": [
            "MoviePy - Done.\n",
            "스크립트 추출 중...\n",
            "스크립트 저장 중...\n",
            "완료되었습니다.\n"
          ]
        }
      ],
      "source": [
        "# 필요한 라이브러리 설치 (Colab용)\n",
        "!pip install yt-dlp moviepy SpeechRecognition pydub\n",
        "\n",
        "import yt_dlp as youtube_dl\n",
        "from moviepy.editor import VideoFileClip\n",
        "import speech_recognition as sr\n",
        "import os\n",
        "\n",
        "# 1. YouTube 영상 다운로드 (yt-dlp 사용)\n",
        "def download_video(url, output_path='video.mp4'):\n",
        "    ydl_opts = {\n",
        "        'format': 'best',\n",
        "        'outtmpl': output_path,\n",
        "    }\n",
        "    with youtube_dl.YoutubeDL(ydl_opts) as ydl:\n",
        "        ydl.download([url])\n",
        "\n",
        "# 2. 오디오 추출\n",
        "def extract_audio(video_path, audio_path='audio.wav'):\n",
        "    video_clip = VideoFileClip(video_path)\n",
        "    video_clip.audio.write_audiofile(audio_path)\n",
        "    video_clip.close()\n",
        "\n",
        "# 3. 음성 인식을 통해 스크립트 추출\n",
        "def transcribe_audio(audio_path):\n",
        "    recognizer = sr.Recognizer()\n",
        "    with sr.AudioFile(audio_path) as source:\n",
        "        audio = recognizer.record(source)\n",
        "    try:\n",
        "        return recognizer.recognize_google(audio, language=\"ko-KR\")\n",
        "    except sr.UnknownValueError:\n",
        "        return \"음성을 인식할 수 없습니다.\"\n",
        "    except sr.RequestError:\n",
        "        return \"Google 음성 인식 API 요청 실패.\"\n",
        "\n",
        "# 4. 텍스트 파일로 저장\n",
        "def save_transcript(text, file_name='transcript.txt'):\n",
        "    with open(file_name, 'w', encoding='utf-8') as file:\n",
        "        file.write(text)\n",
        "\n",
        "# 5. 전체 흐름\n",
        "def video_to_transcript(url):\n",
        "    video_path = 'video.mp4'\n",
        "    audio_path = 'audio.wav'\n",
        "\n",
        "    print(\"영상 다운로드 중...\")\n",
        "    download_video(url, video_path)\n",
        "\n",
        "    print(\"오디오 추출 중...\")\n",
        "    extract_audio(video_path, audio_path)\n",
        "\n",
        "    print(\"스크립트 추출 중...\")\n",
        "    transcript = transcribe_audio(audio_path)\n",
        "\n",
        "    print(\"스크립트 저장 중...\")\n",
        "    save_transcript(transcript)\n",
        "\n",
        "    # 임시 파일 삭제\n",
        "    os.remove(video_path)\n",
        "    os.remove(audio_path)\n",
        "    print(\"완료되었습니다.\")\n",
        "\n",
        "# 사용 예시\n",
        "video_url = 'https://youtu.be/3-C3bPXBE2o?si=WFMDk4kvf_4XBezH'  # 유튜브 영상 링크\n",
        "video_to_transcript(video_url)"
      ]
    }
  ]
}